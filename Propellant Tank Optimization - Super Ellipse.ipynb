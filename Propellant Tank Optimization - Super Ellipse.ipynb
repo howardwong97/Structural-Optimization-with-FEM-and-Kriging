{
 "cells": [
  {
   "cell_type": "markdown",
   "metadata": {},
   "source": [
    "# Motivation\n",
    "\n",
    "The idea is to have a *cylindrical pressure vessel*. I first considered using hemispherical ends. However, hemispheres aren't volumetrically efficient - i.e. a vessel with sharper corners would maximize the capacity. Of course, flat ends would in turn reduce the maximum allowable pressure of the tank. Therefore, we need to find a middle ground. The equation for a super ellipse (basically a squircle) can be written as\n",
    "\n",
    "\\begin{equation}\n",
    "    \\left(\\frac{x}{a}\\right)^{2n} + \\left(\\frac{y}{b}\\right)^{2n} = 1,\n",
    "\\end{equation}\n",
    "\n",
    "where $a$ and $b$ are radii in the $x$ and $y$ axes respectively. In a hemisphere, $a = b$. By defining $m = \\frac{a}{b}$, this can be rewritten as \n",
    "\n",
    "\\begin{equation}\n",
    "    x^{2n} + (my)^{2n} = a^{2n}\n",
    "\\end{equation}\n",
    "\n",
    "Having ellipsoidal ends increases the allowable internal pressure, so we could hypothetically increase its operating pressure to store more propellant. We are trying to find the ideal compromise between having a hemisphere and having a super ellipse for the vessel ends.\n",
    "\n",
    "# Samples\n",
    "\n",
    "Latin hypercube sampling (LHS) is a statistical method for generating a near-random sample of parameter values from a multidimensional distribution. I generate a random sample of m and n values and construct the resulting geometries using the Fusion 360 Python API. Then, I ran a FE analysis with 5 MPa of internal pressure to measure the Von Mises Stress."
   ]
  },
  {
   "cell_type": "code",
   "execution_count": 1,
   "metadata": {},
   "outputs": [],
   "source": [
    "from smt.sampling_methods import LHS\n",
    "import matplotlib.pyplot as plt\n",
    "from matplotlib import cm\n",
    "import pandas as pd\n",
    "import numpy as np"
   ]
  },
  {
   "cell_type": "code",
   "execution_count": 2,
   "metadata": {},
   "outputs": [
    {
     "data": {
      "text/plain": [
       "(30, 2)"
      ]
     },
     "execution_count": 2,
     "metadata": {},
     "output_type": "execute_result"
    }
   ],
   "source": [
    "# Generate sample points for m and n using reasonable values from the literature \n",
    "mn_limits = np.array([[1.00, 2.00], [0.80, 1.20]]) \n",
    "sampling = LHS(xlimits=mn_limits, random_state=42)\n",
    "num = 30\n",
    "mn_samples = sampling(num)\n",
    "mn_samples.shape"
   ]
  },
  {
   "cell_type": "code",
   "execution_count": 3,
   "metadata": {},
   "outputs": [
    {
     "data": {
      "text/html": [
       "<div>\n",
       "<style scoped>\n",
       "    .dataframe tbody tr th:only-of-type {\n",
       "        vertical-align: middle;\n",
       "    }\n",
       "\n",
       "    .dataframe tbody tr th {\n",
       "        vertical-align: top;\n",
       "    }\n",
       "\n",
       "    .dataframe thead th {\n",
       "        text-align: right;\n",
       "    }\n",
       "</style>\n",
       "<table border=\"1\" class=\"dataframe\">\n",
       "  <thead>\n",
       "    <tr style=\"text-align: right;\">\n",
       "      <th></th>\n",
       "      <th>m</th>\n",
       "      <th>n</th>\n",
       "      <th>volume/cm3</th>\n",
       "      <th>mass/g</th>\n",
       "      <th>vm_stress/mpa</th>\n",
       "    </tr>\n",
       "  </thead>\n",
       "  <tbody>\n",
       "    <tr>\n",
       "      <th>0</th>\n",
       "      <td>1.000000</td>\n",
       "      <td>1.000000</td>\n",
       "      <td>128.581198</td>\n",
       "      <td>102.196</td>\n",
       "      <td>129.8</td>\n",
       "    </tr>\n",
       "    <tr>\n",
       "      <th>1</th>\n",
       "      <td>1.016667</td>\n",
       "      <td>0.833333</td>\n",
       "      <td>117.039387</td>\n",
       "      <td>95.906</td>\n",
       "      <td>133.9</td>\n",
       "    </tr>\n",
       "    <tr>\n",
       "      <th>2</th>\n",
       "      <td>1.050000</td>\n",
       "      <td>1.033333</td>\n",
       "      <td>133.094219</td>\n",
       "      <td>104.756</td>\n",
       "      <td>134.5</td>\n",
       "    </tr>\n",
       "    <tr>\n",
       "      <th>3</th>\n",
       "      <td>1.083333</td>\n",
       "      <td>1.086667</td>\n",
       "      <td>137.450414</td>\n",
       "      <td>105.402</td>\n",
       "      <td>134.1</td>\n",
       "    </tr>\n",
       "    <tr>\n",
       "      <th>4</th>\n",
       "      <td>1.116667</td>\n",
       "      <td>1.113333</td>\n",
       "      <td>140.057126</td>\n",
       "      <td>108.829</td>\n",
       "      <td>156.6</td>\n",
       "    </tr>\n",
       "    <tr>\n",
       "      <th>5</th>\n",
       "      <td>1.150000</td>\n",
       "      <td>1.046667</td>\n",
       "      <td>137.982656</td>\n",
       "      <td>107.626</td>\n",
       "      <td>135.1</td>\n",
       "    </tr>\n",
       "    <tr>\n",
       "      <th>6</th>\n",
       "      <td>1.183333</td>\n",
       "      <td>0.846667</td>\n",
       "      <td>127.078578</td>\n",
       "      <td>101.542</td>\n",
       "      <td>141.8</td>\n",
       "    </tr>\n",
       "    <tr>\n",
       "      <th>7</th>\n",
       "      <td>1.216667</td>\n",
       "      <td>1.126667</td>\n",
       "      <td>144.009160</td>\n",
       "      <td>111.256</td>\n",
       "      <td>181.9</td>\n",
       "    </tr>\n",
       "    <tr>\n",
       "      <th>8</th>\n",
       "      <td>1.250000</td>\n",
       "      <td>1.020000</td>\n",
       "      <td>140.133624</td>\n",
       "      <td>108.977</td>\n",
       "      <td>137.6</td>\n",
       "    </tr>\n",
       "    <tr>\n",
       "      <th>9</th>\n",
       "      <td>1.283333</td>\n",
       "      <td>0.806667</td>\n",
       "      <td>128.522645</td>\n",
       "      <td>102.555</td>\n",
       "      <td>160.8</td>\n",
       "    </tr>\n",
       "    <tr>\n",
       "      <th>10</th>\n",
       "      <td>1.316667</td>\n",
       "      <td>0.966667</td>\n",
       "      <td>139.553975</td>\n",
       "      <td>108.730</td>\n",
       "      <td>139.1</td>\n",
       "    </tr>\n",
       "    <tr>\n",
       "      <th>11</th>\n",
       "      <td>1.350000</td>\n",
       "      <td>0.993333</td>\n",
       "      <td>141.902057</td>\n",
       "      <td>110.147</td>\n",
       "      <td>138.7</td>\n",
       "    </tr>\n",
       "    <tr>\n",
       "      <th>12</th>\n",
       "      <td>1.383333</td>\n",
       "      <td>1.100000</td>\n",
       "      <td>147.441993</td>\n",
       "      <td>113.516</td>\n",
       "      <td>186.4</td>\n",
       "    </tr>\n",
       "    <tr>\n",
       "      <th>13</th>\n",
       "      <td>1.416667</td>\n",
       "      <td>1.166667</td>\n",
       "      <td>150.643817</td>\n",
       "      <td>115.554</td>\n",
       "      <td>147.9</td>\n",
       "    </tr>\n",
       "    <tr>\n",
       "      <th>14</th>\n",
       "      <td>1.450000</td>\n",
       "      <td>0.926667</td>\n",
       "      <td>141.401252</td>\n",
       "      <td>110.037</td>\n",
       "      <td>143.1</td>\n",
       "    </tr>\n",
       "    <tr>\n",
       "      <th>15</th>\n",
       "      <td>1.483333</td>\n",
       "      <td>1.193333</td>\n",
       "      <td>152.853070</td>\n",
       "      <td>117.042</td>\n",
       "      <td>282.0</td>\n",
       "    </tr>\n",
       "    <tr>\n",
       "      <th>16</th>\n",
       "      <td>1.516667</td>\n",
       "      <td>0.913333</td>\n",
       "      <td>142.481382</td>\n",
       "      <td>110.799</td>\n",
       "      <td>156.8</td>\n",
       "    </tr>\n",
       "    <tr>\n",
       "      <th>17</th>\n",
       "      <td>1.550000</td>\n",
       "      <td>0.980000</td>\n",
       "      <td>146.367573</td>\n",
       "      <td>113.124</td>\n",
       "      <td>145.7</td>\n",
       "    </tr>\n",
       "    <tr>\n",
       "      <th>18</th>\n",
       "      <td>1.583333</td>\n",
       "      <td>0.886667</td>\n",
       "      <td>142.792104</td>\n",
       "      <td>111.136</td>\n",
       "      <td>177.7</td>\n",
       "    </tr>\n",
       "    <tr>\n",
       "      <th>19</th>\n",
       "      <td>1.616667</td>\n",
       "      <td>0.940000</td>\n",
       "      <td>146.070814</td>\n",
       "      <td>113.087</td>\n",
       "      <td>167.2</td>\n",
       "    </tr>\n",
       "    <tr>\n",
       "      <th>20</th>\n",
       "      <td>1.650000</td>\n",
       "      <td>1.060000</td>\n",
       "      <td>151.477385</td>\n",
       "      <td>116.397</td>\n",
       "      <td>188.0</td>\n",
       "    </tr>\n",
       "    <tr>\n",
       "      <th>21</th>\n",
       "      <td>1.683333</td>\n",
       "      <td>0.900000</td>\n",
       "      <td>145.670853</td>\n",
       "      <td>113.014</td>\n",
       "      <td>195.8</td>\n",
       "    </tr>\n",
       "    <tr>\n",
       "      <th>22</th>\n",
       "      <td>1.716667</td>\n",
       "      <td>1.073333</td>\n",
       "      <td>153.058398</td>\n",
       "      <td>117.493</td>\n",
       "      <td>211.3</td>\n",
       "    </tr>\n",
       "    <tr>\n",
       "      <th>23</th>\n",
       "      <td>1.750000</td>\n",
       "      <td>1.140000</td>\n",
       "      <td>155.624493</td>\n",
       "      <td>119.185</td>\n",
       "      <td>282.8</td>\n",
       "    </tr>\n",
       "    <tr>\n",
       "      <th>24</th>\n",
       "      <td>1.783333</td>\n",
       "      <td>0.953333</td>\n",
       "      <td>149.841938</td>\n",
       "      <td>115.661</td>\n",
       "      <td>197.1</td>\n",
       "    </tr>\n",
       "    <tr>\n",
       "      <th>25</th>\n",
       "      <td>1.816667</td>\n",
       "      <td>0.860000</td>\n",
       "      <td>146.471298</td>\n",
       "      <td>113.823</td>\n",
       "      <td>239.7</td>\n",
       "    </tr>\n",
       "    <tr>\n",
       "      <th>26</th>\n",
       "      <td>1.850000</td>\n",
       "      <td>0.873333</td>\n",
       "      <td>147.681399</td>\n",
       "      <td>114.587</td>\n",
       "      <td>245.4</td>\n",
       "    </tr>\n",
       "    <tr>\n",
       "      <th>27</th>\n",
       "      <td>1.883333</td>\n",
       "      <td>1.006667</td>\n",
       "      <td>153.371881</td>\n",
       "      <td>117.987</td>\n",
       "      <td>208.2</td>\n",
       "    </tr>\n",
       "    <tr>\n",
       "      <th>28</th>\n",
       "      <td>1.916667</td>\n",
       "      <td>1.153333</td>\n",
       "      <td>158.143931</td>\n",
       "      <td>121.083</td>\n",
       "      <td>323.3</td>\n",
       "    </tr>\n",
       "    <tr>\n",
       "      <th>29</th>\n",
       "      <td>1.950000</td>\n",
       "      <td>0.820000</td>\n",
       "      <td>147.026350</td>\n",
       "      <td>114.532</td>\n",
       "      <td>295.3</td>\n",
       "    </tr>\n",
       "    <tr>\n",
       "      <th>30</th>\n",
       "      <td>1.983333</td>\n",
       "      <td>1.180000</td>\n",
       "      <td>159.545794</td>\n",
       "      <td>122.118</td>\n",
       "      <td>366.6</td>\n",
       "    </tr>\n",
       "  </tbody>\n",
       "</table>\n",
       "</div>"
      ],
      "text/plain": [
       "           m         n  volume/cm3   mass/g  vm_stress/mpa\n",
       "0   1.000000  1.000000  128.581198  102.196          129.8\n",
       "1   1.016667  0.833333  117.039387   95.906          133.9\n",
       "2   1.050000  1.033333  133.094219  104.756          134.5\n",
       "3   1.083333  1.086667  137.450414  105.402          134.1\n",
       "4   1.116667  1.113333  140.057126  108.829          156.6\n",
       "5   1.150000  1.046667  137.982656  107.626          135.1\n",
       "6   1.183333  0.846667  127.078578  101.542          141.8\n",
       "7   1.216667  1.126667  144.009160  111.256          181.9\n",
       "8   1.250000  1.020000  140.133624  108.977          137.6\n",
       "9   1.283333  0.806667  128.522645  102.555          160.8\n",
       "10  1.316667  0.966667  139.553975  108.730          139.1\n",
       "11  1.350000  0.993333  141.902057  110.147          138.7\n",
       "12  1.383333  1.100000  147.441993  113.516          186.4\n",
       "13  1.416667  1.166667  150.643817  115.554          147.9\n",
       "14  1.450000  0.926667  141.401252  110.037          143.1\n",
       "15  1.483333  1.193333  152.853070  117.042          282.0\n",
       "16  1.516667  0.913333  142.481382  110.799          156.8\n",
       "17  1.550000  0.980000  146.367573  113.124          145.7\n",
       "18  1.583333  0.886667  142.792104  111.136          177.7\n",
       "19  1.616667  0.940000  146.070814  113.087          167.2\n",
       "20  1.650000  1.060000  151.477385  116.397          188.0\n",
       "21  1.683333  0.900000  145.670853  113.014          195.8\n",
       "22  1.716667  1.073333  153.058398  117.493          211.3\n",
       "23  1.750000  1.140000  155.624493  119.185          282.8\n",
       "24  1.783333  0.953333  149.841938  115.661          197.1\n",
       "25  1.816667  0.860000  146.471298  113.823          239.7\n",
       "26  1.850000  0.873333  147.681399  114.587          245.4\n",
       "27  1.883333  1.006667  153.371881  117.987          208.2\n",
       "28  1.916667  1.153333  158.143931  121.083          323.3\n",
       "29  1.950000  0.820000  147.026350  114.532          295.3\n",
       "30  1.983333  1.180000  159.545794  122.118          366.6"
      ]
     },
     "execution_count": 3,
     "metadata": {},
     "output_type": "execute_result"
    }
   ],
   "source": [
    "# After that, I wrote some Fusion 360 scripts to generate the pressure vessels and ran simulations\n",
    "df = pd.read_csv('sampled_data.csv')\n",
    "df"
   ]
  },
  {
   "cell_type": "code",
   "execution_count": 4,
   "metadata": {},
   "outputs": [
    {
     "data": {
      "image/png": "[encoded data removed]",
      "text/plain": [
       "<Figure size 864x576 with 2 Axes>"
      ]
     },
     "metadata": {
      "needs_background": "light"
     },
     "output_type": "display_data"
    }
   ],
   "source": [
    "fig = plt.figure(figsize=(12, 8))\n",
    "ax = fig.gca(projection='3d')\n",
    "\n",
    "surface = ax.plot_trisurf(df['m'], df['n'], df['vm_stress/mpa'], cmap=cm.coolwarm, linewidth=0)\n",
    "ax.set_xlabel('m')\n",
    "ax.set_ylabel('n')\n",
    "ax.set_zlabel('Von Mises Stress/MPa')\n",
    "fig.colorbar(surface)\n",
    "plt.show()"
   ]
  },
  {
   "cell_type": "markdown",
   "metadata": {},
   "source": [
    "# Fitting Kriging Model"
   ]
  },
  {
   "cell_type": "code",
   "execution_count": 5,
   "metadata": {},
   "outputs": [],
   "source": [
    "from pykrige.ok import OrdinaryKriging"
   ]
  },
  {
   "cell_type": "code",
   "execution_count": 6,
   "metadata": {
    "code_folding": []
   },
   "outputs": [],
   "source": [
    "# Kriging interpolation to model vm_stress, volume and mass as a function of (m, n)\n",
    "stress_model = OrdinaryKriging(\n",
    "    df['m'].values,\n",
    "    df['n'].values,\n",
    "    df['vm_stress/mpa'].values,\n",
    "    variogram_model='linear'\n",
    ")\n",
    "\n",
    "volume_model = OrdinaryKriging(\n",
    "    df['m'].values,\n",
    "    df['n'].values,\n",
    "    df['volume/cm3'].values,\n",
    "    variogram_model='linear'\n",
    ")\n",
    "\n",
    "mass_model = OrdinaryKriging(\n",
    "    df['m'].values,\n",
    "    df['n'].values,\n",
    "    df['mass/g'].values,\n",
    "    variogram_model='linear'\n",
    ")"
   ]
  },
  {
   "cell_type": "code",
   "execution_count": 7,
   "metadata": {},
   "outputs": [
    {
     "data": {
      "text/plain": [
       "(masked_array(data=[281.40126602172785],\n",
       "              mask=[False],\n",
       "        fill_value=1e+20),\n",
       " masked_array(data=[403.51551189513276],\n",
       "              mask=[False],\n",
       "        fill_value=1e+20))"
      ]
     },
     "execution_count": 7,
     "metadata": {},
     "output_type": "execute_result"
    }
   ],
   "source": [
    "stress_model.execute('points', 1.5, 1.2)"
   ]
  },
  {
   "cell_type": "code",
   "execution_count": 8,
   "metadata": {},
   "outputs": [
    {
     "data": {
      "text/plain": [
       "(masked_array(data=[153.1974566846785],\n",
       "              mask=[False],\n",
       "        fill_value=1e+20),\n",
       " masked_array(data=[9.633343612886568],\n",
       "              mask=[False],\n",
       "        fill_value=1e+20))"
      ]
     },
     "execution_count": 8,
     "metadata": {},
     "output_type": "execute_result"
    }
   ],
   "source": [
    "volume_model.execute('points', 1.5, 1.2)"
   ]
  },
  {
   "cell_type": "code",
   "execution_count": 9,
   "metadata": {},
   "outputs": [
    {
     "data": {
      "text/plain": [
       "(masked_array(data=[117.27298536377593],\n",
       "              mask=[False],\n",
       "        fill_value=1e+20),\n",
       " masked_array(data=[4.005322974982829],\n",
       "              mask=[False],\n",
       "        fill_value=1e+20))"
      ]
     },
     "execution_count": 9,
     "metadata": {},
     "output_type": "execute_result"
    }
   ],
   "source": [
    "mass_model.execute('points', 1.5, 1.2)"
   ]
  },
  {
   "cell_type": "markdown",
   "metadata": {},
   "source": [
    "# Feature Engineering\n",
    "\n",
    "We need to define a feature to be optimized. The motivation of this optimization problem is to determine the geometry for the vessel's ends to maximize the amount of helium propellant that can be stored. Rearranging the ideal gas law gives\n",
    "\n",
    "\\begin{equation}\n",
    "    m = \\frac{PV}{RT}.\n",
    "\\end{equation}\n",
    "\n",
    "We wish to quantify the improvement of a super ellipsoidal pressure vessel over a typical hemispherical one. We define a parameter known as the *improvement factor*, written as\n",
    "\n",
    "\\begin{equation}\n",
    "    IF = \\frac{m_{s}}{m_{h}} = \\frac{P_s V_s / RT}{P_h V_h / RT} = \\frac{P_s}{P_h} \\cdot \\frac{V_s}{V_h},\n",
    "\\end{equation}\n",
    "\n",
    "where the $s$ and $h$ subscripts denote the superellipsoidal and hemispherical pressure vessels respectively. Note that $m$ refers to the theoretical mass of *helium* which the tank would store, not to the mass of the tank itself.\n",
    "\n",
    "We've already determined the storage capacity of each of the above configurations. We can take the Von Mises stress as a proxy for the actual operating pressure, since this is a dimensionless variable normalized by that of the hemispherical pressure vessel. But bear in mind that we have an inverse relationship between the Von Mises stress and allowable pressure:\n",
    "\n",
    "\\begin{equation}\n",
    "    P_{\\text{allow}} \\propto \\frac{1}{\\sigma_{\\text{vm}}}\n",
    "\\end{equation}\n",
    "\n",
    "Therefore, we rewrite equation (4) to give\n",
    "\n",
    "\\begin{equation}\n",
    "    IF = \\frac{\\sigma_{h, \\text{vm}}}{\\sigma_{s, \\text{vm}}} \\cdot \\frac{V_s}{V_h},\n",
    "\\end{equation}\n",
    "\n",
    "We should also bear in mind that, ideally, we want the propellant tank to be as light as possible. Therefore, I introduce a penalty/ regularisation term which relates to the mass of the tank:\n",
    "\n",
    "\\begin{equation}\n",
    "    IF = \\left(\\frac{m_{s}}{m_{h}}\\right)_{\\text{propellant}} - \\alpha \\cdot \\left(\\frac{m_s}{m_h}\\right)_{\\text{tank}}\n",
    "\\end{equation}\n",
    "\n",
    "where $\\alpha$ is a weight coefficient which can be tuned - increasing the value of $\\alpha$ means penalizing higher tank masses more heavily. Finally, the full expression is:\n",
    "\n",
    "\\begin{equation}\n",
    "    IF = \\frac{\\sigma_{h, \\text{vm}}}{\\sigma_{s, \\text{vm}}} \\cdot \\frac{V_s}{V_h} - \\alpha \\cdot \\left(\\frac{m_s}{m_h}\\right)_{\\text{tank}}\n",
    "\\end{equation}"
   ]
  },
  {
   "cell_type": "markdown",
   "metadata": {},
   "source": [
    "# Optimization\n",
    "\n",
    "I'll be making use of `scipy.optimize.basinhopping`, which *minimizes* functions. Therefore, my `improvement_factor()` function should return $-IF$. Basin-hopping is a global stepping algorithm which performs local minimization at each step."
   ]
  },
  {
   "cell_type": "code",
   "execution_count": 10,
   "metadata": {},
   "outputs": [],
   "source": [
    "from scipy.optimize import basinhopping"
   ]
  },
  {
   "cell_type": "code",
   "execution_count": 11,
   "metadata": {},
   "outputs": [],
   "source": [
    "def improvement_factor(params, vh, sh, mh, alpha):\n",
    "    m, n = params\n",
    "    ss = stress_model.execute('points', m, n)[0][0]\n",
    "    vs = volume_model.execute('points', m, n)[0][0]\n",
    "    ms = mass_model.execute('points', m, n)[0][0]\n",
    "    IF = ((sh / ss) * (vs / vh) - alpha * (ms / mh))\n",
    "    return -IF"
   ]
  },
  {
   "cell_type": "code",
   "execution_count": 12,
   "metadata": {},
   "outputs": [],
   "source": [
    "# Get hemisphere values: m = 1.0 and n = 1.0\n",
    "volume_hemisphere = df.iloc[0]['volume/cm3']\n",
    "sigma_hemisphere = df.iloc[0]['vm_stress/mpa']\n",
    "mass_hemisphere = df.iloc[0]['mass/g']\n",
    "\n",
    "# Initial guess\n",
    "x0 = [1.0, 1.0]\n",
    "\n",
    "# Number of iterations\n",
    "niter = 30\n",
    "\n",
    "# Bounds\n",
    "bounds = [(1.0, 2.0), (0.8, 1.2)]\n",
    "\n",
    "# Penalty term\n",
    "alpha = 0.02\n",
    "\n",
    "minimizer_kwargs = {\n",
    "    'method': 'SLSQP',\n",
    "    'bounds': bounds,\n",
    "    'args': (volume_hemisphere, sigma_hemisphere, mass_hemisphere, alpha)\n",
    "}\n",
    "\n",
    "result = basinhopping(\n",
    "    improvement_factor,\n",
    "    niter=niter,\n",
    "    x0=x0,\n",
    "    minimizer_kwargs=minimizer_kwargs\n",
    ")"
   ]
  },
  {
   "cell_type": "code",
   "execution_count": 13,
   "metadata": {},
   "outputs": [],
   "source": [
    "m_optimal, n_optimal = result.x"
   ]
  },
  {
   "cell_type": "code",
   "execution_count": 14,
   "metadata": {},
   "outputs": [
    {
     "data": {
      "text/plain": [
       "(1.1372395911987507, 1.022420864161912)"
      ]
     },
     "execution_count": 14,
     "metadata": {},
     "output_type": "execute_result"
    }
   ],
   "source": [
    "m_optimal, n_optimal"
   ]
  }
 ],
 "metadata": {
  "kernelspec": {
   "display_name": "Python 3",
   "language": "python",
   "name": "python3"
  },
  "language_info": {
   "codemirror_mode": {
    "name": "ipython",
    "version": 3
   },
   "file_extension": ".py",
   "mimetype": "text/x-python",
   "name": "python",
   "nbconvert_exporter": "python",
   "pygments_lexer": "ipython3",
   "version": "3.8.5"
  },
  "latex_envs": {
   "LaTeX_envs_menu_present": true,
   "autoclose": false,
   "autocomplete": true,
   "bibliofile": "biblio.bib",
   "cite_by": "apalike",
   "current_citInitial": 1,
   "eqLabelWithNumbers": true,
   "eqNumInitial": 1,
   "hotkeys": {
    "equation": "Ctrl-E",
    "itemize": "Ctrl-I"
   },
   "labels_anchors": false,
   "latex_user_defs": false,
   "report_style_numbering": false,
   "user_envs_cfg": false
  },
  "toc": {
   "base_numbering": 1,
   "nav_menu": {},
   "number_sections": true,
   "sideBar": true,
   "skip_h1_title": false,
   "title_cell": "Table of Contents",
   "title_sidebar": "Contents",
   "toc_cell": false,
   "toc_position": {},
   "toc_section_display": true,
   "toc_window_display": false
  }
 },
 "nbformat": 4,
 "nbformat_minor": 4
}
